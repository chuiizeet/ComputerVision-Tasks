{
 "cells": [
  {
   "cell_type": "markdown",
   "metadata": {},
   "source": [
    "# Tracking APIs (Built-in with OpenCV)"
   ]
  },
  {
   "cell_type": "code",
   "execution_count": null,
   "metadata": {},
   "outputs": [],
   "source": [
    "import cv2"
   ]
  },
  {
   "cell_type": "code",
   "execution_count": null,
   "metadata": {},
   "outputs": [],
   "source": [
    "def ask_for_tracker():\n",
    "    print(\"What tracker API would you like to use?\")\n",
    "    print(\"ENTER 0 for BOOSTING: \")\n",
    "    print(\"ENTER 1 for MIL: \")\n",
    "    print(\"ENTER 2 for KCF: \")\n",
    "    print(\"ENTER 3 for TLD: \")\n",
    "    print(\"ENTER 4 for MEDIANFLOW: \")\n",
    "    choice = input(\"Please select your tracker: \")\n",
    "    \n",
    "    if choice == '0':\n",
    "        tracker = cv2.TrackerBoosting_create()\n",
    "    if choice == '1':\n",
    "        tracker = cv2.TrackerMIL_create()\n",
    "    if choice == '2':\n",
    "        tracker = cv2.TrackerKCF_create()\n",
    "    if choice == '3':\n",
    "        tracker = cv2.TrackerTLD_create()\n",
    "    if choice == '4':\n",
    "        tracker = cv2.TrackerMedianFlow_create()\n",
    "    \n",
    "    return tracker"
   ]
  },
  {
   "cell_type": "code",
   "execution_count": null,
   "metadata": {},
   "outputs": [],
   "source": [
    "tracker = ask_for_tracker()"
   ]
  },
  {
   "cell_type": "code",
   "execution_count": null,
   "metadata": {},
   "outputs": [],
   "source": []
  },
  {
   "cell_type": "code",
   "execution_count": null,
   "metadata": {},
   "outputs": [],
   "source": [
    "str(tracker).split()[0][1:]"
   ]
  },
  {
   "cell_type": "markdown",
   "metadata": {},
   "source": [
    "### Tracker"
   ]
  },
  {
   "cell_type": "code",
   "execution_count": null,
   "metadata": {},
   "outputs": [],
   "source": [
    "tracker = ask_for_tracker()\n",
    "tracker_name = str(tracker).split()[0][1:]\n",
    "\n",
    "# Read video\n",
    "cap = cv2.VideoCapture(0)\n",
    "\n",
    "# Read first frame\n",
    "ret, frame = cap.read()\n",
    "\n",
    "# Special function allows us to draw on the very first frame\n",
    "roi = cv2.selectROI(frame,\n",
    "                   False)\n",
    "\n",
    "# Initialize tracker with firs frame and bounding box\n",
    "ret = tracker.init(frame,\n",
    "                  roi)\n",
    "\n",
    "while True:\n",
    "    # Read a new frame\n",
    "    ret, frame = cap.read()\n",
    "    \n",
    "    # Update tracker\n",
    "    success, roi = tracker.update(frame)\n",
    "    \n",
    "    # Tuple of a 4 floats\n",
    "    # Need change to integers\n",
    "    (x,y,w,h) = tuple(map(int,roi))\n",
    "    \n",
    "    # Draw rectangle a tracker moves\n",
    "    if success:\n",
    "        \n",
    "        p1 = (x,y)\n",
    "        p2 = (x+w,y+h)\n",
    "        cv2.rectangle(frame,\n",
    "                     p1,\n",
    "                     p2,\n",
    "                     (0,255,0),\n",
    "                     3)\n",
    "        \n",
    "    else:\n",
    "        # Tracking failure\n",
    "        cv2.putText(frame,\n",
    "                   \"Failure to detect\",\n",
    "                   (100,200),\n",
    "                   cv2.FONT_HERSHEY_SIMPLEX,\n",
    "                   4,\n",
    "                   (0,0,255),\n",
    "                   3,\n",
    "                   cv2.LINE_AA\n",
    "                   )\n",
    "        \n",
    "    # Display tracjer type on frame\n",
    "    cv2.putText(frame,\n",
    "               tracker_name,\n",
    "               (20,400),\n",
    "               cv2.FONT_HERSHEY_SIMPLEX,\n",
    "               1,\n",
    "               (0,255,0),\n",
    "               3)\n",
    "\n",
    "    # Display result\n",
    "    cv2.imshow(tracker_name, frame)\n",
    "\n",
    "    # Exit\n",
    "    k = cv2.waitKey(1) & 0xFF\n",
    "    if k == 27:\n",
    "        break\n",
    "            \n",
    "cap.release()\n",
    "cv2.destroyAllWindows()"
   ]
  },
  {
   "cell_type": "code",
   "execution_count": null,
   "metadata": {},
   "outputs": [],
   "source": []
  }
 ],
 "metadata": {
  "kernelspec": {
   "display_name": "Python 3",
   "language": "python",
   "name": "python3"
  },
  "language_info": {
   "codemirror_mode": {
    "name": "ipython",
    "version": 3
   },
   "file_extension": ".py",
   "mimetype": "text/x-python",
   "name": "python",
   "nbconvert_exporter": "python",
   "pygments_lexer": "ipython3",
   "version": "3.6.6"
  }
 },
 "nbformat": 4,
 "nbformat_minor": 2
}
