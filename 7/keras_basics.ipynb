{
 "cells": [
  {
   "cell_type": "code",
   "execution_count": 1,
   "metadata": {},
   "outputs": [],
   "source": [
    "import numpy as np\n",
    "from numpy import genfromtxt"
   ]
  },
  {
   "cell_type": "code",
   "execution_count": 2,
   "metadata": {},
   "outputs": [],
   "source": [
    " data = genfromtxt('bank_note_data.txt', delimiter=',')"
   ]
  },
  {
   "cell_type": "code",
   "execution_count": 3,
   "metadata": {},
   "outputs": [
    {
     "data": {
      "text/plain": [
       "array([[  3.6216 ,   8.6661 ,  -2.8073 ,  -0.44699,   0.     ],\n",
       "       [  4.5459 ,   8.1674 ,  -2.4586 ,  -1.4621 ,   0.     ],\n",
       "       [  3.866  ,  -2.6383 ,   1.9242 ,   0.10645,   0.     ],\n",
       "       ...,\n",
       "       [ -3.7503 , -13.4586 ,  17.5932 ,  -2.7771 ,   1.     ],\n",
       "       [ -3.5637 ,  -8.3827 ,  12.393  ,  -1.2823 ,   1.     ],\n",
       "       [ -2.5419 ,  -0.65804,   2.6842 ,   1.1952 ,   1.     ]])"
      ]
     },
     "execution_count": 3,
     "metadata": {},
     "output_type": "execute_result"
    }
   ],
   "source": [
    "data"
   ]
  },
  {
   "cell_type": "code",
   "execution_count": 6,
   "metadata": {},
   "outputs": [],
   "source": [
    "labels = data[:,4]"
   ]
  },
  {
   "cell_type": "code",
   "execution_count": 7,
   "metadata": {},
   "outputs": [
    {
     "data": {
      "text/plain": [
       "array([0., 0., 0., ..., 1., 1., 1.])"
      ]
     },
     "execution_count": 7,
     "metadata": {},
     "output_type": "execute_result"
    }
   ],
   "source": [
    "labels"
   ]
  },
  {
   "cell_type": "code",
   "execution_count": 8,
   "metadata": {},
   "outputs": [],
   "source": [
    "features = data[:,0:4]"
   ]
  },
  {
   "cell_type": "code",
   "execution_count": 9,
   "metadata": {},
   "outputs": [
    {
     "data": {
      "text/plain": [
       "array([[  3.6216 ,   8.6661 ,  -2.8073 ,  -0.44699],\n",
       "       [  4.5459 ,   8.1674 ,  -2.4586 ,  -1.4621 ],\n",
       "       [  3.866  ,  -2.6383 ,   1.9242 ,   0.10645],\n",
       "       ...,\n",
       "       [ -3.7503 , -13.4586 ,  17.5932 ,  -2.7771 ],\n",
       "       [ -3.5637 ,  -8.3827 ,  12.393  ,  -1.2823 ],\n",
       "       [ -2.5419 ,  -0.65804,   2.6842 ,   1.1952 ]])"
      ]
     },
     "execution_count": 9,
     "metadata": {},
     "output_type": "execute_result"
    }
   ],
   "source": [
    "features"
   ]
  },
  {
   "cell_type": "code",
   "execution_count": 13,
   "metadata": {},
   "outputs": [],
   "source": [
    "X = features\n",
    "y = labels"
   ]
  },
  {
   "cell_type": "code",
   "execution_count": 14,
   "metadata": {},
   "outputs": [],
   "source": [
    "from sklearn.model_selection import train_test_split"
   ]
  },
  {
   "cell_type": "code",
   "execution_count": 15,
   "metadata": {},
   "outputs": [],
   "source": [
    "X_train, X_test, y_train, y_test = train_test_split(X,\n",
    "                                                    y,\n",
    "                                                    test_size=0.33,\n",
    "                                                    random_state=42)"
   ]
  },
  {
   "cell_type": "code",
   "execution_count": 17,
   "metadata": {},
   "outputs": [
    {
     "data": {
      "text/plain": [
       "919"
      ]
     },
     "execution_count": 17,
     "metadata": {},
     "output_type": "execute_result"
    }
   ],
   "source": [
    "len(X_train)"
   ]
  },
  {
   "cell_type": "code",
   "execution_count": 18,
   "metadata": {},
   "outputs": [
    {
     "data": {
      "text/plain": [
       "1372"
      ]
     },
     "execution_count": 18,
     "metadata": {},
     "output_type": "execute_result"
    }
   ],
   "source": [
    "len(X)"
   ]
  },
  {
   "cell_type": "code",
   "execution_count": 19,
   "metadata": {},
   "outputs": [
    {
     "data": {
      "text/plain": [
       "453"
      ]
     },
     "execution_count": 19,
     "metadata": {},
     "output_type": "execute_result"
    }
   ],
   "source": [
    "len(X_test)"
   ]
  },
  {
   "cell_type": "code",
   "execution_count": 21,
   "metadata": {},
   "outputs": [],
   "source": [
    "# y_train"
   ]
  },
  {
   "cell_type": "code",
   "execution_count": 22,
   "metadata": {},
   "outputs": [],
   "source": [
    "from sklearn.preprocessing import MinMaxScaler"
   ]
  },
  {
   "cell_type": "code",
   "execution_count": 23,
   "metadata": {},
   "outputs": [],
   "source": [
    "scaler_object = MinMaxScaler()"
   ]
  },
  {
   "cell_type": "code",
   "execution_count": 24,
   "metadata": {},
   "outputs": [
    {
     "data": {
      "text/plain": [
       "MinMaxScaler(copy=True, feature_range=(0, 1))"
      ]
     },
     "execution_count": 24,
     "metadata": {},
     "output_type": "execute_result"
    }
   ],
   "source": [
    "scaler_object.fit(X_train)"
   ]
  },
  {
   "cell_type": "code",
   "execution_count": 25,
   "metadata": {},
   "outputs": [],
   "source": [
    "scaled_X_train = scaler_object.transform(X_train)"
   ]
  },
  {
   "cell_type": "code",
   "execution_count": 26,
   "metadata": {},
   "outputs": [],
   "source": [
    "scaled_X_test = scaler_object.transform(X_test)"
   ]
  },
  {
   "cell_type": "code",
   "execution_count": 27,
   "metadata": {},
   "outputs": [
    {
     "data": {
      "text/plain": [
       "1.0000000000000002"
      ]
     },
     "execution_count": 27,
     "metadata": {},
     "output_type": "execute_result"
    }
   ],
   "source": [
    "scaled_X_train.max()"
   ]
  },
  {
   "cell_type": "code",
   "execution_count": 31,
   "metadata": {},
   "outputs": [],
   "source": [
    "# scaled_X_train.min()"
   ]
  },
  {
   "cell_type": "code",
   "execution_count": 32,
   "metadata": {},
   "outputs": [],
   "source": [
    "from keras.models import Sequential\n",
    "from keras.layers import Dense"
   ]
  },
  {
   "cell_type": "code",
   "execution_count": 33,
   "metadata": {},
   "outputs": [],
   "source": [
    "model = Sequential()\n",
    "\n",
    "model.add(Dense(4,\n",
    "               input_dim=4,\n",
    "               activation='relu'))\n",
    "\n",
    "model.add(Dense(8,\n",
    "               activation='relu'))\n",
    "\n",
    "model.add(Dense(1,\n",
    "               activation='sigmoid'))"
   ]
  },
  {
   "cell_type": "code",
   "execution_count": 36,
   "metadata": {},
   "outputs": [],
   "source": [
    "model.compile(loss='binary_crossentropy',\n",
    "             optimizer='adam',\n",
    "             metrics=['accuracy'])"
   ]
  },
  {
   "cell_type": "code",
   "execution_count": 38,
   "metadata": {},
   "outputs": [
    {
     "name": "stdout",
     "output_type": "stream",
     "text": [
      "Epoch 1/100\n",
      " - 0s - loss: 0.1603 - acc: 0.9587\n",
      "Epoch 2/100\n",
      " - 0s - loss: 0.1546 - acc: 0.9608\n",
      "Epoch 3/100\n",
      " - 0s - loss: 0.1491 - acc: 0.9630\n",
      "Epoch 4/100\n",
      " - 0s - loss: 0.1440 - acc: 0.9630\n",
      "Epoch 5/100\n",
      " - 0s - loss: 0.1387 - acc: 0.9630\n",
      "Epoch 6/100\n",
      " - 0s - loss: 0.1344 - acc: 0.9619\n",
      "Epoch 7/100\n",
      " - 0s - loss: 0.1300 - acc: 0.9674\n",
      "Epoch 8/100\n",
      " - 0s - loss: 0.1254 - acc: 0.9684\n",
      "Epoch 9/100\n",
      " - 0s - loss: 0.1210 - acc: 0.9706\n",
      "Epoch 10/100\n",
      " - 0s - loss: 0.1183 - acc: 0.9717\n",
      "Epoch 11/100\n",
      " - 0s - loss: 0.1143 - acc: 0.9717\n",
      "Epoch 12/100\n",
      " - 0s - loss: 0.1107 - acc: 0.9695\n",
      "Epoch 13/100\n",
      " - 0s - loss: 0.1073 - acc: 0.9717\n",
      "Epoch 14/100\n",
      " - 0s - loss: 0.1036 - acc: 0.9728\n",
      "Epoch 15/100\n",
      " - 0s - loss: 0.1008 - acc: 0.9739\n",
      "Epoch 16/100\n",
      " - 0s - loss: 0.0979 - acc: 0.9739\n",
      "Epoch 17/100\n",
      " - 0s - loss: 0.0958 - acc: 0.9750\n",
      "Epoch 18/100\n",
      " - 0s - loss: 0.0932 - acc: 0.9739\n",
      "Epoch 19/100\n",
      " - 0s - loss: 0.0901 - acc: 0.9782\n",
      "Epoch 20/100\n",
      " - 0s - loss: 0.0882 - acc: 0.9782\n",
      "Epoch 21/100\n",
      " - 0s - loss: 0.0860 - acc: 0.9771\n",
      "Epoch 22/100\n",
      " - 0s - loss: 0.0834 - acc: 0.9761\n",
      "Epoch 23/100\n",
      " - 0s - loss: 0.0813 - acc: 0.9782\n",
      "Epoch 24/100\n",
      " - 0s - loss: 0.0790 - acc: 0.9815\n",
      "Epoch 25/100\n",
      " - 0s - loss: 0.0775 - acc: 0.9826\n",
      "Epoch 26/100\n",
      " - 0s - loss: 0.0749 - acc: 0.9815\n",
      "Epoch 27/100\n",
      " - 0s - loss: 0.0734 - acc: 0.9815\n",
      "Epoch 28/100\n",
      " - 0s - loss: 0.0713 - acc: 0.9837\n",
      "Epoch 29/100\n",
      " - 0s - loss: 0.0700 - acc: 0.9826\n",
      "Epoch 30/100\n",
      " - 0s - loss: 0.0683 - acc: 0.9837\n",
      "Epoch 31/100\n",
      " - 0s - loss: 0.0666 - acc: 0.9837\n",
      "Epoch 32/100\n",
      " - 0s - loss: 0.0651 - acc: 0.9837\n",
      "Epoch 33/100\n",
      " - 0s - loss: 0.0639 - acc: 0.9848\n",
      "Epoch 34/100\n",
      " - 0s - loss: 0.0626 - acc: 0.9859\n",
      "Epoch 35/100\n",
      " - 0s - loss: 0.0620 - acc: 0.9869\n",
      "Epoch 36/100\n",
      " - 0s - loss: 0.0595 - acc: 0.9880\n",
      "Epoch 37/100\n",
      " - 0s - loss: 0.0579 - acc: 0.9869\n",
      "Epoch 38/100\n",
      " - 0s - loss: 0.0583 - acc: 0.9859\n",
      "Epoch 39/100\n",
      " - 0s - loss: 0.0556 - acc: 0.9891\n",
      "Epoch 40/100\n",
      " - 0s - loss: 0.0541 - acc: 0.9891\n",
      "Epoch 41/100\n",
      " - 0s - loss: 0.0532 - acc: 0.9880\n",
      "Epoch 42/100\n",
      " - 0s - loss: 0.0521 - acc: 0.9880\n",
      "Epoch 43/100\n",
      " - 0s - loss: 0.0506 - acc: 0.9891\n",
      "Epoch 44/100\n",
      " - 0s - loss: 0.0499 - acc: 0.9891\n",
      "Epoch 45/100\n",
      " - 0s - loss: 0.0489 - acc: 0.9891\n",
      "Epoch 46/100\n",
      " - 0s - loss: 0.0480 - acc: 0.9891\n",
      "Epoch 47/100\n",
      " - 0s - loss: 0.0478 - acc: 0.9891\n",
      "Epoch 48/100\n",
      " - 0s - loss: 0.0460 - acc: 0.9902\n",
      "Epoch 49/100\n",
      " - 0s - loss: 0.0453 - acc: 0.9902\n",
      "Epoch 50/100\n",
      " - 0s - loss: 0.0451 - acc: 0.9902\n",
      "Epoch 51/100\n",
      " - 0s - loss: 0.0435 - acc: 0.9902\n",
      "Epoch 52/100\n",
      " - 0s - loss: 0.0428 - acc: 0.9902\n",
      "Epoch 53/100\n",
      " - 0s - loss: 0.0425 - acc: 0.9913\n",
      "Epoch 54/100\n",
      " - 0s - loss: 0.0415 - acc: 0.9902\n",
      "Epoch 55/100\n",
      " - 0s - loss: 0.0411 - acc: 0.9902\n",
      "Epoch 56/100\n",
      " - 0s - loss: 0.0404 - acc: 0.9902\n",
      "Epoch 57/100\n",
      " - 0s - loss: 0.0390 - acc: 0.9913\n",
      "Epoch 58/100\n",
      " - 0s - loss: 0.0386 - acc: 0.9902\n",
      "Epoch 59/100\n",
      " - 0s - loss: 0.0380 - acc: 0.9924\n",
      "Epoch 60/100\n",
      " - 0s - loss: 0.0379 - acc: 0.9902\n",
      "Epoch 61/100\n",
      " - 0s - loss: 0.0370 - acc: 0.9935\n",
      "Epoch 62/100\n",
      " - 0s - loss: 0.0365 - acc: 0.9902\n",
      "Epoch 63/100\n",
      " - 0s - loss: 0.0356 - acc: 0.9902\n",
      "Epoch 64/100\n",
      " - 0s - loss: 0.0354 - acc: 0.9902\n",
      "Epoch 65/100\n",
      " - 0s - loss: 0.0351 - acc: 0.9902\n",
      "Epoch 66/100\n",
      " - 0s - loss: 0.0343 - acc: 0.9924\n",
      "Epoch 67/100\n",
      " - 0s - loss: 0.0341 - acc: 0.9913\n",
      "Epoch 68/100\n",
      " - 0s - loss: 0.0339 - acc: 0.9913\n",
      "Epoch 69/100\n",
      " - 0s - loss: 0.0335 - acc: 0.9913\n",
      "Epoch 70/100\n",
      " - 0s - loss: 0.0323 - acc: 0.9978\n",
      "Epoch 71/100\n",
      " - 0s - loss: 0.0319 - acc: 0.9902\n",
      "Epoch 72/100\n",
      " - 0s - loss: 0.0311 - acc: 0.9946\n",
      "Epoch 73/100\n",
      " - 0s - loss: 0.0308 - acc: 0.9902\n",
      "Epoch 74/100\n",
      " - 0s - loss: 0.0304 - acc: 0.9956\n",
      "Epoch 75/100\n",
      " - 0s - loss: 0.0298 - acc: 0.9924\n",
      "Epoch 76/100\n",
      " - 0s - loss: 0.0296 - acc: 0.9935\n",
      "Epoch 77/100\n",
      " - 0s - loss: 0.0292 - acc: 0.9978\n",
      "Epoch 78/100\n",
      " - 0s - loss: 0.0286 - acc: 0.9956\n",
      "Epoch 79/100\n",
      " - 0s - loss: 0.0287 - acc: 0.9956\n",
      "Epoch 80/100\n",
      " - 0s - loss: 0.0279 - acc: 0.9946\n",
      "Epoch 81/100\n",
      " - 0s - loss: 0.0275 - acc: 0.9978\n",
      "Epoch 82/100\n",
      " - 0s - loss: 0.0272 - acc: 0.9967\n",
      "Epoch 83/100\n",
      " - 0s - loss: 0.0268 - acc: 0.9978\n",
      "Epoch 84/100\n",
      " - 0s - loss: 0.0268 - acc: 0.9967\n",
      "Epoch 85/100\n",
      " - 0s - loss: 0.0264 - acc: 0.9956\n",
      "Epoch 86/100\n",
      " - 0s - loss: 0.0262 - acc: 0.9946\n",
      "Epoch 87/100\n",
      " - 0s - loss: 0.0255 - acc: 0.9978\n",
      "Epoch 88/100\n",
      " - 0s - loss: 0.0253 - acc: 0.9978\n",
      "Epoch 89/100\n",
      " - 0s - loss: 0.0248 - acc: 0.9978\n",
      "Epoch 90/100\n",
      " - 0s - loss: 0.0246 - acc: 0.9978\n",
      "Epoch 91/100\n",
      " - 0s - loss: 0.0244 - acc: 0.9978\n",
      "Epoch 92/100\n",
      " - 0s - loss: 0.0241 - acc: 0.9978\n",
      "Epoch 93/100\n",
      " - 0s - loss: 0.0240 - acc: 0.9978\n",
      "Epoch 94/100\n",
      " - 0s - loss: 0.0234 - acc: 0.9978\n",
      "Epoch 95/100\n",
      " - 0s - loss: 0.0233 - acc: 0.9978\n",
      "Epoch 96/100\n",
      " - 0s - loss: 0.0231 - acc: 0.9978\n",
      "Epoch 97/100\n",
      " - 0s - loss: 0.0227 - acc: 0.9978\n",
      "Epoch 98/100\n",
      " - 0s - loss: 0.0230 - acc: 0.9946\n",
      "Epoch 99/100\n",
      " - 0s - loss: 0.0224 - acc: 0.9978\n",
      "Epoch 100/100\n",
      " - 0s - loss: 0.0222 - acc: 0.9978\n"
     ]
    },
    {
     "data": {
      "text/plain": [
       "<keras.callbacks.History at 0x1a2e39d208>"
      ]
     },
     "execution_count": 38,
     "metadata": {},
     "output_type": "execute_result"
    }
   ],
   "source": [
    "model.fit(scaled_X_train,\n",
    "         y_train,\n",
    "         epochs=100,\n",
    "         verbose=2)"
   ]
  },
  {
   "cell_type": "code",
   "execution_count": 40,
   "metadata": {},
   "outputs": [],
   "source": [
    "# model.predict_classes(scaled_X_test)"
   ]
  },
  {
   "cell_type": "code",
   "execution_count": 41,
   "metadata": {},
   "outputs": [
    {
     "data": {
      "text/plain": [
       "['loss', 'acc']"
      ]
     },
     "execution_count": 41,
     "metadata": {},
     "output_type": "execute_result"
    }
   ],
   "source": [
    "model.metrics_names"
   ]
  },
  {
   "cell_type": "code",
   "execution_count": 42,
   "metadata": {},
   "outputs": [],
   "source": [
    "from sklearn.metrics import confusion_matrix,classification_report"
   ]
  },
  {
   "cell_type": "code",
   "execution_count": 43,
   "metadata": {},
   "outputs": [],
   "source": [
    "predictions = model.predict_classes(scaled_X_test)"
   ]
  },
  {
   "cell_type": "code",
   "execution_count": 44,
   "metadata": {},
   "outputs": [
    {
     "data": {
      "text/plain": [
       "array([[256,   1],\n",
       "       [  0, 196]])"
      ]
     },
     "execution_count": 44,
     "metadata": {},
     "output_type": "execute_result"
    }
   ],
   "source": [
    "confusion_matrix(y_test,predictions)"
   ]
  },
  {
   "cell_type": "code",
   "execution_count": 45,
   "metadata": {},
   "outputs": [
    {
     "name": "stdout",
     "output_type": "stream",
     "text": [
      "             precision    recall  f1-score   support\n",
      "\n",
      "        0.0       1.00      1.00      1.00       257\n",
      "        1.0       0.99      1.00      1.00       196\n",
      "\n",
      "avg / total       1.00      1.00      1.00       453\n",
      "\n"
     ]
    }
   ],
   "source": [
    "print(classification_report(y_test,predictions))"
   ]
  },
  {
   "cell_type": "code",
   "execution_count": 46,
   "metadata": {},
   "outputs": [],
   "source": [
    "model.save('feelsModel.h5')"
   ]
  },
  {
   "cell_type": "code",
   "execution_count": 47,
   "metadata": {},
   "outputs": [],
   "source": [
    "from keras.models import load_model"
   ]
  },
  {
   "cell_type": "code",
   "execution_count": 48,
   "metadata": {},
   "outputs": [],
   "source": [
    "new_model = load_model('feelsModel.h5')"
   ]
  },
  {
   "cell_type": "code",
   "execution_count": 49,
   "metadata": {},
   "outputs": [
    {
     "data": {
      "text/plain": [
       "array([[0],\n",
       "       [0],\n",
       "       [0],\n",
       "       [0],\n",
       "       [0],\n",
       "       [0],\n",
       "       [0],\n",
       "       [0],\n",
       "       [0],\n",
       "       [0],\n",
       "       [1],\n",
       "       [1],\n",
       "       [0],\n",
       "       [1],\n",
       "       [0],\n",
       "       [1],\n",
       "       [1],\n",
       "       [1],\n",
       "       [1],\n",
       "       [1],\n",
       "       [0],\n",
       "       [0],\n",
       "       [1],\n",
       "       [0],\n",
       "       [1],\n",
       "       [0],\n",
       "       [0],\n",
       "       [1],\n",
       "       [0],\n",
       "       [0],\n",
       "       [1],\n",
       "       [0],\n",
       "       [0],\n",
       "       [1],\n",
       "       [1],\n",
       "       [0],\n",
       "       [1],\n",
       "       [1],\n",
       "       [1],\n",
       "       [0],\n",
       "       [0],\n",
       "       [1],\n",
       "       [1],\n",
       "       [0],\n",
       "       [1],\n",
       "       [1],\n",
       "       [1],\n",
       "       [0],\n",
       "       [0],\n",
       "       [1],\n",
       "       [0],\n",
       "       [0],\n",
       "       [0],\n",
       "       [0],\n",
       "       [0],\n",
       "       [1],\n",
       "       [0],\n",
       "       [0],\n",
       "       [0],\n",
       "       [0],\n",
       "       [1],\n",
       "       [0],\n",
       "       [1],\n",
       "       [0],\n",
       "       [0],\n",
       "       [0],\n",
       "       [0],\n",
       "       [0],\n",
       "       [0],\n",
       "       [1],\n",
       "       [1],\n",
       "       [0],\n",
       "       [1],\n",
       "       [0],\n",
       "       [1],\n",
       "       [0],\n",
       "       [0],\n",
       "       [1],\n",
       "       [1],\n",
       "       [1],\n",
       "       [1],\n",
       "       [0],\n",
       "       [1],\n",
       "       [0],\n",
       "       [0],\n",
       "       [0],\n",
       "       [0],\n",
       "       [1],\n",
       "       [1],\n",
       "       [0],\n",
       "       [0],\n",
       "       [0],\n",
       "       [1],\n",
       "       [1],\n",
       "       [0],\n",
       "       [1],\n",
       "       [1],\n",
       "       [0],\n",
       "       [0],\n",
       "       [0],\n",
       "       [1],\n",
       "       [0],\n",
       "       [0],\n",
       "       [0],\n",
       "       [1],\n",
       "       [0],\n",
       "       [0],\n",
       "       [1],\n",
       "       [1],\n",
       "       [1],\n",
       "       [1],\n",
       "       [1],\n",
       "       [0],\n",
       "       [1],\n",
       "       [1],\n",
       "       [1],\n",
       "       [0],\n",
       "       [1],\n",
       "       [1],\n",
       "       [0],\n",
       "       [1],\n",
       "       [0],\n",
       "       [1],\n",
       "       [0],\n",
       "       [1],\n",
       "       [0],\n",
       "       [1],\n",
       "       [1],\n",
       "       [0],\n",
       "       [1],\n",
       "       [1],\n",
       "       [0],\n",
       "       [0],\n",
       "       [0],\n",
       "       [0],\n",
       "       [0],\n",
       "       [1],\n",
       "       [0],\n",
       "       [0],\n",
       "       [1],\n",
       "       [0],\n",
       "       [0],\n",
       "       [1],\n",
       "       [0],\n",
       "       [1],\n",
       "       [1],\n",
       "       [1],\n",
       "       [1],\n",
       "       [1],\n",
       "       [0],\n",
       "       [1],\n",
       "       [1],\n",
       "       [1],\n",
       "       [0],\n",
       "       [1],\n",
       "       [0],\n",
       "       [1],\n",
       "       [0],\n",
       "       [0],\n",
       "       [0],\n",
       "       [1],\n",
       "       [1],\n",
       "       [1],\n",
       "       [1],\n",
       "       [1],\n",
       "       [0],\n",
       "       [1],\n",
       "       [0],\n",
       "       [0],\n",
       "       [0],\n",
       "       [0],\n",
       "       [0],\n",
       "       [0],\n",
       "       [1],\n",
       "       [0],\n",
       "       [0],\n",
       "       [1],\n",
       "       [1],\n",
       "       [0],\n",
       "       [0],\n",
       "       [0],\n",
       "       [0],\n",
       "       [1],\n",
       "       [0],\n",
       "       [1],\n",
       "       [0],\n",
       "       [1],\n",
       "       [1],\n",
       "       [0],\n",
       "       [0],\n",
       "       [1],\n",
       "       [0],\n",
       "       [0],\n",
       "       [1],\n",
       "       [1],\n",
       "       [1],\n",
       "       [1],\n",
       "       [0],\n",
       "       [0],\n",
       "       [1],\n",
       "       [1],\n",
       "       [1],\n",
       "       [0],\n",
       "       [0],\n",
       "       [1],\n",
       "       [1],\n",
       "       [1],\n",
       "       [1],\n",
       "       [0],\n",
       "       [0],\n",
       "       [0],\n",
       "       [0],\n",
       "       [0],\n",
       "       [0],\n",
       "       [0],\n",
       "       [0],\n",
       "       [0],\n",
       "       [0],\n",
       "       [1],\n",
       "       [1],\n",
       "       [1],\n",
       "       [1],\n",
       "       [1],\n",
       "       [0],\n",
       "       [1],\n",
       "       [0],\n",
       "       [0],\n",
       "       [1],\n",
       "       [1],\n",
       "       [1],\n",
       "       [1],\n",
       "       [0],\n",
       "       [1],\n",
       "       [0],\n",
       "       [1],\n",
       "       [1],\n",
       "       [1],\n",
       "       [1],\n",
       "       [0],\n",
       "       [0],\n",
       "       [0],\n",
       "       [1],\n",
       "       [0],\n",
       "       [1],\n",
       "       [1],\n",
       "       [1],\n",
       "       [0],\n",
       "       [0],\n",
       "       [0],\n",
       "       [0],\n",
       "       [0],\n",
       "       [0],\n",
       "       [1],\n",
       "       [0],\n",
       "       [1],\n",
       "       [0],\n",
       "       [0],\n",
       "       [0],\n",
       "       [1],\n",
       "       [1],\n",
       "       [0],\n",
       "       [0],\n",
       "       [0],\n",
       "       [1],\n",
       "       [1],\n",
       "       [0],\n",
       "       [1],\n",
       "       [0],\n",
       "       [1],\n",
       "       [1],\n",
       "       [1],\n",
       "       [1],\n",
       "       [0],\n",
       "       [0],\n",
       "       [0],\n",
       "       [0],\n",
       "       [0],\n",
       "       [1],\n",
       "       [0],\n",
       "       [0],\n",
       "       [1],\n",
       "       [0],\n",
       "       [1],\n",
       "       [0],\n",
       "       [0],\n",
       "       [1],\n",
       "       [0],\n",
       "       [0],\n",
       "       [0],\n",
       "       [0],\n",
       "       [0],\n",
       "       [1],\n",
       "       [1],\n",
       "       [0],\n",
       "       [1],\n",
       "       [0],\n",
       "       [1],\n",
       "       [1],\n",
       "       [0],\n",
       "       [0],\n",
       "       [0],\n",
       "       [0],\n",
       "       [0],\n",
       "       [0],\n",
       "       [0],\n",
       "       [1],\n",
       "       [1],\n",
       "       [1],\n",
       "       [0],\n",
       "       [0],\n",
       "       [1],\n",
       "       [1],\n",
       "       [0],\n",
       "       [0],\n",
       "       [0],\n",
       "       [0],\n",
       "       [0],\n",
       "       [0],\n",
       "       [1],\n",
       "       [0],\n",
       "       [1],\n",
       "       [1],\n",
       "       [1],\n",
       "       [0],\n",
       "       [0],\n",
       "       [0],\n",
       "       [0],\n",
       "       [1],\n",
       "       [0],\n",
       "       [0],\n",
       "       [0],\n",
       "       [0],\n",
       "       [0],\n",
       "       [0],\n",
       "       [0],\n",
       "       [1],\n",
       "       [0],\n",
       "       [1],\n",
       "       [1],\n",
       "       [1],\n",
       "       [1],\n",
       "       [0],\n",
       "       [1],\n",
       "       [1],\n",
       "       [0],\n",
       "       [1],\n",
       "       [1],\n",
       "       [0],\n",
       "       [0],\n",
       "       [1],\n",
       "       [0],\n",
       "       [0],\n",
       "       [1],\n",
       "       [0],\n",
       "       [1],\n",
       "       [0],\n",
       "       [1],\n",
       "       [1],\n",
       "       [0],\n",
       "       [0],\n",
       "       [1],\n",
       "       [0],\n",
       "       [0],\n",
       "       [0],\n",
       "       [0],\n",
       "       [0],\n",
       "       [0],\n",
       "       [1],\n",
       "       [0],\n",
       "       [0],\n",
       "       [1],\n",
       "       [0],\n",
       "       [0],\n",
       "       [0],\n",
       "       [0],\n",
       "       [1],\n",
       "       [1],\n",
       "       [0],\n",
       "       [1],\n",
       "       [0],\n",
       "       [1],\n",
       "       [1],\n",
       "       [1],\n",
       "       [0],\n",
       "       [1],\n",
       "       [1],\n",
       "       [0],\n",
       "       [1],\n",
       "       [1],\n",
       "       [0],\n",
       "       [1],\n",
       "       [0],\n",
       "       [0],\n",
       "       [0],\n",
       "       [1],\n",
       "       [1],\n",
       "       [1],\n",
       "       [0],\n",
       "       [0],\n",
       "       [0],\n",
       "       [0],\n",
       "       [1],\n",
       "       [0],\n",
       "       [0],\n",
       "       [1],\n",
       "       [1],\n",
       "       [1],\n",
       "       [1],\n",
       "       [0],\n",
       "       [1],\n",
       "       [0],\n",
       "       [0],\n",
       "       [1],\n",
       "       [1],\n",
       "       [0],\n",
       "       [1],\n",
       "       [0],\n",
       "       [1],\n",
       "       [0],\n",
       "       [0],\n",
       "       [0],\n",
       "       [1],\n",
       "       [1],\n",
       "       [0],\n",
       "       [0],\n",
       "       [0],\n",
       "       [1],\n",
       "       [0],\n",
       "       [0],\n",
       "       [1],\n",
       "       [0],\n",
       "       [0],\n",
       "       [0],\n",
       "       [0],\n",
       "       [1],\n",
       "       [0],\n",
       "       [1],\n",
       "       [0],\n",
       "       [0],\n",
       "       [1],\n",
       "       [0],\n",
       "       [0],\n",
       "       [0],\n",
       "       [0],\n",
       "       [0],\n",
       "       [0],\n",
       "       [1],\n",
       "       [1],\n",
       "       [0],\n",
       "       [0],\n",
       "       [0],\n",
       "       [0],\n",
       "       [0]], dtype=int32)"
      ]
     },
     "execution_count": 49,
     "metadata": {},
     "output_type": "execute_result"
    }
   ],
   "source": [
    "new_model.predict_classes(scaled_X_test)"
   ]
  },
  {
   "cell_type": "code",
   "execution_count": null,
   "metadata": {},
   "outputs": [],
   "source": []
  }
 ],
 "metadata": {
  "kernelspec": {
   "display_name": "Python 3",
   "language": "python",
   "name": "python3"
  },
  "language_info": {
   "codemirror_mode": {
    "name": "ipython",
    "version": 3
   },
   "file_extension": ".py",
   "mimetype": "text/x-python",
   "name": "python",
   "nbconvert_exporter": "python",
   "pygments_lexer": "ipython3",
   "version": "3.6.6"
  }
 },
 "nbformat": 4,
 "nbformat_minor": 2
}
